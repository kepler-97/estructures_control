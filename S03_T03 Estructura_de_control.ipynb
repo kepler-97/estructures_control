{
 "cells": [
  {
   "cell_type": "markdown",
   "id": "981257d1",
   "metadata": {},
   "source": [
    "# Estructura_de_control / Control_flow\n",
    "![sierra3](sierra3.png)",
    "S03 T03"
   ]
  },
  {
   "cell_type": "markdown",
   "id": "9f466e62",
   "metadata": {
    "heading_collapsed": true
   },
   "source": [
    "## Exercici_1\n",
    "---\n",
    "+ Crea un programa que et classifiqui una variable numèrica en funció de l’escala Suspès/Aprovat/Notable/Excel·lent."
   ]
  },
  {
   "cell_type": "code",
   "execution_count": 2,
   "id": "4bbb6e45",
   "metadata": {
    "hidden": true
   },
   "outputs": [
    {
     "name": "stdout",
     "output_type": "stream",
     "text": [
      "Introduïu una puntuació numèrica: 8.99\n",
      "Qualificació: Notable\n"
     ]
    }
   ],
   "source": [
    "import numpy as np\n",
    "\n",
    "nota = float(input('Introduïu una puntuació numèrica: '))\n",
    "\n",
    "if nota < 5:\n",
    "    x = 'Suspès'\n",
    "        \n",
    "elif nota >= 5 and nota < 7:\n",
    "    x = 'Aprovat'\n",
    "        \n",
    "elif nota >= 7 and nota < 9:\n",
    "    x = 'Notable'\n",
    "        \n",
    "elif nota >= 9 and nota < 10:\n",
    "    x = 'Excel·lent'\n",
    "    \n",
    "else:\n",
    "    print('La puntuació ha de ser entre 0 i 10')\n",
    "\n",
    "print(f'Qualificació: {x}')"
   ]
  },
  {
   "cell_type": "markdown",
   "id": "8e612bce",
   "metadata": {
    "heading_collapsed": true
   },
   "source": [
    "## Exercici_2\n",
    "---\n",
    "+ Crea un programa que et pregunti dos números. T’ha de mostrar un missatge dient si el primer és més gran, el segon és més gran o són iguals."
   ]
  },
  {
   "cell_type": "code",
   "execution_count": 3,
   "id": "10c5e095",
   "metadata": {
    "hidden": true
   },
   "outputs": [
    {
     "name": "stdout",
     "output_type": "stream",
     "text": [
      "Has d'introduir nombres, siguin positius o negatius.\n",
      "\n",
      "Digues-me un nombre: 7\n",
      "Digues-me un altre nombre: 7\n",
      "\n",
      "Tots dos nombres són iguals: 7.0 = 7.0\n"
     ]
    }
   ],
   "source": [
    "print('Has d\\'introduir nombres, siguin positius o negatius.\\n')\n",
    "\n",
    "num = float(input('Digues-me un nombre: '))\n",
    "num2 = float(input('Digues-me un altre nombre: '))\n",
    "\n",
    "if num > num2:\n",
    "    print(f'\\nEl primer nombre ,\"{num}\", es mes gran.')\n",
    "elif num < num2:\n",
    "    print(f'\\nEl segon nombre ,\"{num2}\", es mes gran.')\n",
    "elif num == num2:\n",
    "    print(f'\\nTots dos nombres són iguals: {num} = {num2}')"
   ]
  },
  {
   "cell_type": "markdown",
   "id": "27e11a1e",
   "metadata": {
    "heading_collapsed": true
   },
   "source": [
    "## Exercici_3\n",
    "---\n",
    "+ Crea un programa que et pregunti el teu nom, i et demani un número. Si el número és 0, hauria de mostrar un missatge d’error. En cas contrari, hauria de mostrar el nom repetit tants cops com indiqui el número. Per exemple, “Joan Joan Joan”."
   ]
  },
  {
   "cell_type": "code",
   "execution_count": 7,
   "id": "e54e939e",
   "metadata": {
    "hidden": true
   },
   "outputs": [
    {
     "name": "stdout",
     "output_type": "stream",
     "text": [
      "Escriu el teu nom: Jardel\n",
      "Escriu un numèro: 6\n",
      "\n",
      "El teu nom s'ha multiplicat 6 vegada/es: JardelJardelJardelJardelJardelJardel\n"
     ]
    }
   ],
   "source": [
    "\n",
    "nom = input('Escriu el teu nom: ')\n",
    "multi = int(input('Escriu un numèro: '))\n",
    "\n",
    "if multi == 0 or multi <= 0:\n",
    "    print('\\n¡ERROR! Escriu un numèro enter positiu més gran que \"0\"')\n",
    "else:\n",
    "    print(f\"\\nEl teu nom s'ha multiplicat {multi} vegada/es:\", nom*multi)"
   ]
  },
  {
   "cell_type": "markdown",
   "id": "13d7497d",
   "metadata": {
    "heading_collapsed": true
   },
   "source": [
    "## Exercici_4\n",
    "---\n",
    "+ Crea un programa que donada una llista qualsevol, et digui si es simètrica o no. Si ho és, que et digui quants elements té."
   ]
  },
  {
   "cell_type": "code",
   "execution_count": 5,
   "id": "4b87add0",
   "metadata": {
    "hidden": true
   },
   "outputs": [
    {
     "data": {
      "text/plain": [
       "\"És un capicua!. Nombre d'elements: 5\""
      ]
     },
     "execution_count": 5,
     "metadata": {},
     "output_type": "execute_result"
    }
   ],
   "source": [
    "lista3 = [2, 1, 0, 1, 2]\n",
    "#print(lista3,\"\\n\")\n",
    "\n",
    "def capicua(lista):\n",
    "    '''Diu si una llista, d'una dimensió, és simètrica'''\n",
    "    if lista==lista[::-1]: # Reversed list\n",
    "        return \"És un capicua!. Nombre d'elements: \" + str(len(lista))\n",
    "    else:\n",
    "        return \"No és simètric.\"\n",
    "\n",
    "#print(capicua(\"1233321\"))\n",
    "capicua(lista3)"
   ]
  },
  {
   "cell_type": "markdown",
   "id": "e58ed228",
   "metadata": {
    "heading_collapsed": true
   },
   "source": [
    "## Exercici_5\n",
    "---\n",
    "+ Crea un programa que donada una llista, et digui quants números coincideixen amb la seva posició. "
   ]
  },
  {
   "cell_type": "code",
   "execution_count": 6,
   "id": "e64a6b96",
   "metadata": {
    "hidden": true
   },
   "outputs": [
    {
     "name": "stdout",
     "output_type": "stream",
     "text": [
      "0\n",
      "1\n",
      "4\n",
      "5\n"
     ]
    }
   ],
   "source": [
    "lista = [0, 1, 3, 8, 4, 5]\n",
    "\n",
    "for i, item in enumerate(lista):\n",
    "    if i == item: # i = indices, item = valores de la \"lista\"\n",
    "        print(i)"
   ]
  }
 ],
 "metadata": {
  "hide_input": false,
  "kernelspec": {
   "display_name": "Python 3",
   "language": "python",
   "name": "python3"
  },
  "language_info": {
   "codemirror_mode": {
    "name": "ipython",
    "version": 3
   },
   "file_extension": ".py",
   "mimetype": "text/x-python",
   "name": "python",
   "nbconvert_exporter": "python",
   "pygments_lexer": "ipython3",
   "version": "3.8.8"
  },
  "latex_envs": {
   "LaTeX_envs_menu_present": true,
   "autoclose": false,
   "autocomplete": true,
   "bibliofile": "biblio.bib",
   "cite_by": "apalike",
   "current_citInitial": 1,
   "eqLabelWithNumbers": true,
   "eqNumInitial": 1,
   "hotkeys": {
    "equation": "Ctrl-E",
    "itemize": "Ctrl-I"
   },
   "labels_anchors": false,
   "latex_user_defs": false,
   "report_style_numbering": false,
   "user_envs_cfg": false
  },
  "toc": {
   "base_numbering": 1,
   "nav_menu": {},
   "number_sections": false,
   "sideBar": false,
   "skip_h1_title": false,
   "title_cell": "Table of Contents",
   "title_sidebar": "Contents",
   "toc_cell": false,
   "toc_position": {
    "height": "180px",
    "left": "1173px",
    "top": "212px",
    "width": "165px"
   },
   "toc_section_display": false,
   "toc_window_display": false
  }
 },
 "nbformat": 4,
 "nbformat_minor": 5
}
